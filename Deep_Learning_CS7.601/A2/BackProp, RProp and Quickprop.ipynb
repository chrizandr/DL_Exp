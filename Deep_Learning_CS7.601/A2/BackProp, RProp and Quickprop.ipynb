{
 "cells": [
  {
   "cell_type": "code",
   "execution_count": 1,
   "metadata": {},
   "outputs": [],
   "source": [
    "import numpy as np\n",
    "import matplotlib.pyplot as plt\n",
    "import cv2\n",
    "import pandas as pd\n",
    "from sklearn.model_selection import train_test_split\n",
    "import pdb"
   ]
  },
  {
   "cell_type": "markdown",
   "metadata": {},
   "source": [
    "### Final Results for different setting of hyperparameters and optimizers\n",
    "\n",
    "#### SGD optimization\n",
    "| Hidden Nodes | Activation | Train MSE | Test MSE |\n",
    "|--------------|------------|-----------|----------|\n",
    "| 25           | Tanh       | 2.8077    | 2.749    |\n",
    "| 25           | ReLU       | 0.975     | 1.078    |\n",
    "| 50           | Tanh       | 3.212     | 0.648    |\n",
    "| 50           | ReLU       | 1.256     | 29.061   |\n",
    "| 75           | Tanh       | 3.377     | 3.051    |\n",
    "| 75           | ReLU       | 1.828     | 1.345    |\n",
    "\n",
    "#### RProp optimization\n",
    "| Hidden Nodes | Activation | Train MSE | Test MSE |\n",
    "|--------------|------------|-----------|----------|\n",
    "| 25           | Tanh       | 0.049     | 0.099    |\n",
    "| 25           | ReLU       | 0.0711    | 0.0945   |\n",
    "| 50           | Tanh       | 0.0336    | 1.181    |\n",
    "| 50           | ReLU       | 0.0501    | 66.626   |\n",
    "| 75           | Tanh       | 0.0263    | 0.114    |\n",
    "| 75           | ReLU       | 0.0406    | 0.08     |\n",
    "\n",
    "#### QuickProp optimization\n",
    "| Hidden Nodes | Activation | Train MSE | Test MSE    |\n",
    "|--------------|------------|-----------|-------------|\n",
    "| 25           | Tanh       | 0.448     | 0.451       |\n",
    "| 25           | ReLU       | 0.404     | 0.330       |\n",
    "| 50           | Tanh       | 0.381     | 80.52       |\n",
    "| 50           | ReLU       | 3312.96   | 45182369.32 |\n",
    "| 75           | Tanh       | 0.6105    | 0.4178      |\n",
    "| 75           | ReLU       | 748122    | 6325.7      |"
   ]
  },
  {
   "cell_type": "markdown",
   "metadata": {},
   "source": [
    "### Read  dataset"
   ]
  },
  {
   "cell_type": "code",
   "execution_count": 2,
   "metadata": {},
   "outputs": [
    {
     "name": "stdout",
     "output_type": "stream",
     "text": [
      "(721, 8) (721,)\n",
      "(309, 8) (309,)\n"
     ]
    }
   ],
   "source": [
    "path = 'Concrete_Data.xls'\n",
    "frame = pd.read_excel(path)\n",
    "frame = frame.to_numpy()\n",
    "data, labels = frame[:, :-1], frame[:, -1]\n",
    "\n",
    "data_dev = data.std(axis=0)\n",
    "data = data - data.mean(axis=0)\n",
    "data = data / data_dev\n",
    "labels_dev = labels.std(axis=0)\n",
    "labels = labels - labels.mean(axis=0)\n",
    "labels = labels / labels_dev\n",
    "\n",
    "shuffle_indices = np.random.permutation(data.shape[0])\n",
    "data = data[shuffle_indices]\n",
    "labels = labels[shuffle_indices]\n",
    "\n",
    "test_split = int(data.shape[0] * 0.7)\n",
    "\n",
    "X_train, y_train = data[0:test_split], labels[0:test_split]\n",
    "X_test, y_test = data[test_split::], labels[test_split::]\n",
    "\n",
    "print(X_train.shape, y_train.shape)\n",
    "print(X_test.shape, y_test.shape)"
   ]
  },
  {
   "cell_type": "markdown",
   "metadata": {},
   "source": [
    "## 3 Layer network\n",
    "\n",
    "$y_{pred}= w_{ho}f(w_{ih}X)$\n",
    "\n",
    "`X` is a augmented feature matrix `x` that includes bias term also.\n",
    "\n",
    "The loss function used to train this model is MSE. This loss function is defined as:\n",
    "\n",
    "$L(y_{target}, y_{pred}) = \\frac{1}{N}\\sum_{i=1}^{N} (y_{target}-y_{pred})^2$\n",
    "\n"
   ]
  },
  {
   "cell_type": "markdown",
   "metadata": {},
   "source": [
    "### Gradient Calculation for back propagation\n",
    "\n",
    "The gradient of the above loss function w.r.t y_pred is :\n",
    "\n",
    "$\\nabla_{y_{pred}} L = -\\frac{2}{N}\\sum_{i=1}^{N}(y_{target}-y_{pred})$\n",
    "\n",
    "The parameters of this MLP are $w_ho$ and $w_ih$.The gradients are:\n",
    "\n",
    "$\\nabla_{w_{ho}} L = \\nabla_{y_{pred}} L \\times \\nabla_{w_{ho}} y_{pred}$\n",
    "\n",
    "$\\nabla_{w_{ho}} L = \\nabla_{y_{pred}} L \\times f(w_{ih}X)$\n",
    "\n",
    "The gradient of weight $w_ih$ is calculated as follows:\n",
    "\n",
    "$\\nabla_{w_{ih}} L = \\nabla_{y_{pred}} L \\times \\nabla_{f(w_{ih}X)} y_{pred} \\times \\nabla_{w_{ih}}f(w_{ih}X) $\n",
    "\n",
    "$\\nabla_{w_{ih}} L = \\nabla_{y_{pred}} L \\times w_{ho} \\times f\\prime(w_{ih}X)X $\n"
   ]
  },
  {
   "cell_type": "markdown",
   "metadata": {},
   "source": [
    "### Different optimization algorithms\n",
    "\n",
    "Different optimization algorithms are used to update the weights of a network. These update rules are defined below.\n",
    "\n",
    "- Gradient descent using batch propagation<br>\n",
    "   $$w^{(k)} = w^{(k-1)}-\\eta\\nabla_w Loss$$\n",
    "\n",
    "- Optimization using Rrop algorithm\n",
    "    $$w^{(k)} = w^{(k-1)}-\\eta^{(k-1)}sign(\\nabla_{w^{(k-1)}} Loss)$$\n",
    "    \n",
    "$$\\eta^{(k)} = \\left\\{\n",
    "            \\begin{array}{ll}\n",
    "                  min(\\eta^{(k-1)}\\alpha, \\eta_{max}) & sign(\\nabla_{w^{(k-1)}} Loss) == sign(\\nabla_{w^{(k)}} Loss) \\\\\n",
    "                  max(\\eta^{(k-1)}\\beta, \\eta_{min}) & otherwise \\\\\n",
    "            \\end{array} \n",
    "            \\right.  $$\n",
    "\n",
    "- Optimization using QuickProp algorithm\n",
    "$$ \\Delta w^{(k)} = \\Delta w^{(k-1)} \\frac{\\nabla_w^{(k)}Loss}{\\nabla_w^{(k-1)}Loss-\\nabla_w^{(k)}Loss}$$\n",
    "\n",
    "     $$ w^{(k)} = w^{(k)} - \\Delta  w^{(k)}$$"
   ]
  },
  {
   "cell_type": "markdown",
   "metadata": {},
   "source": [
    "### Creating MLP and functions"
   ]
  },
  {
   "cell_type": "code",
   "execution_count": 42,
   "metadata": {},
   "outputs": [],
   "source": [
    "def create_MLP_params(input_dim, hidden_dim, output_dim):\n",
    "    w_ih = np.random.rand(input_dim + 1, hidden_dim)\n",
    "    w_ho = np.random.rand(hidden_dim + 1, output_dim)\n",
    "    return w_ih, w_ho\n",
    "\n",
    "\n",
    "def tanh(X):\n",
    "    return np.tanh(X)\n",
    "\n",
    "\n",
    "def relu(X):\n",
    "    return np.maximum(X, 0)\n",
    "\n",
    "\n",
    "def tanh_grad(X):\n",
    "    return 1 - np.tanh(X)**2\n",
    "\n",
    "\n",
    "def relu_grad(X):\n",
    "    g = np.zeros(X.shape)\n",
    "    g[X > 0] = 1\n",
    "    return g\n",
    "\n",
    "\n",
    "def forward_pass(X, w_ih, w_ho, activation):\n",
    "    z_0 = np.matmul(X, w_ih)\n",
    "    y_0 = activation(z_0)\n",
    "\n",
    "    y_0 = np.concatenate([y_0, np.ones((y_0.shape[0], 1))], axis=1)\n",
    "    y_1 = np.matmul(y_0, w_ho)\n",
    "\n",
    "    return z_0, y_0, y_1\n",
    "\n",
    "\n",
    "def loss(y_pred, y):\n",
    "    y = y.reshape(-1, 1)\n",
    "    y_pred = y_pred.reshape(-1, 1)\n",
    "    N = y.shape[0]\n",
    "    l_ = ((y-y_pred)**2).sum(axis=0) / N\n",
    "    l_grad = -2*(y-y_pred) / N\n",
    "    return l_, l_grad\n",
    "\n",
    "\n",
    "def backward_pass(X, y_pred, y, z_0, y_0, w_ih, w_ho, activation_grad):\n",
    "    l, l_grad = loss(y_pred, y)\n",
    "    z_0_grad = activation_grad(z_0)\n",
    "    z_0_grad = np.concatenate([z_0_grad, np.zeros((z_0_grad.shape[0], 1))], axis=1)\n",
    "    w_ho_grad = (l_grad*y_0).sum(axis=0).T\n",
    "    w_ho_grad = w_ho_grad.reshape(-1, 1)\n",
    "    w_ih_grad = np.matmul((l_grad * w_ho.T * z_0_grad).T, X).T\n",
    "    w_ih_grad = w_ih_grad[:, :-1]\n",
    "\n",
    "    return w_ho_grad, w_ih_grad, l"
   ]
  },
  {
   "cell_type": "markdown",
   "metadata": {},
   "source": [
    "### SGD optimization"
   ]
  },
  {
   "cell_type": "code",
   "execution_count": 119,
   "metadata": {},
   "outputs": [],
   "source": [
    "def SGD(X, y, hidden_dim, activation, activation_grad, epochs=1000, lr=0.01):\n",
    "    input_dim = X.shape[1]\n",
    "    output_dim = 1\n",
    "    X = np.concatenate([X, np.ones((X.shape[0], 1))], axis=1)\n",
    "    \n",
    "    losses = []\n",
    "\n",
    "    w_ih, w_ho = create_MLP_params(input_dim, hidden_dim, output_dim)\n",
    "\n",
    "    counter = 0\n",
    "    for i in range(epochs):\n",
    "        z_0, y_0, y_pred = forward_pass(X, w_ih, w_ho, activation)\n",
    "        w_ho_grad, w_ih_grad, loss_ = backward_pass(X, y_pred, y, z_0, y_0, w_ih, w_ho, activation_grad)\n",
    "        w_ho -= lr*w_ho_grad\n",
    "        w_ih -= lr*w_ih_grad\n",
    "\n",
    "        counter += 1\n",
    "        losses.append(loss_)\n",
    "        if counter % 100 == 0:\n",
    "            print(\"Epoch: {}, Loss:{}\".format(counter, loss_))\n",
    "\n",
    "    return w_ho, w_ih, losses"
   ]
  },
  {
   "cell_type": "code",
   "execution_count": 120,
   "metadata": {
    "scrolled": true
   },
   "outputs": [
    {
     "name": "stdout",
     "output_type": "stream",
     "text": [
      "Hidden layer size:25, Activation Function:tanh\n",
      "Epoch: 100, Loss:[19.20434807]\n",
      "Epoch: 200, Loss:[14.70388187]\n",
      "Epoch: 300, Loss:[11.44794398]\n",
      "Epoch: 400, Loss:[9.04242428]\n",
      "Epoch: 500, Loss:[7.23478879]\n",
      "Epoch: 600, Loss:[5.85742]\n",
      "Epoch: 700, Loss:[4.79570649]\n",
      "Epoch: 800, Loss:[3.96928958]\n",
      "Epoch: 900, Loss:[3.32061959]\n",
      "Epoch: 1000, Loss:[2.80773609]\n"
     ]
    },
    {
     "data": {
      "image/png": "[encoded data removed]",
      "text/plain": [
       "<Figure size 432x288 with 1 Axes>"
      ]
     },
     "metadata": {
      "needs_background": "light"
     },
     "output_type": "display_data"
    },
    {
     "name": "stdout",
     "output_type": "stream",
     "text": [
      "Hidden layer size:25, Activation Function:relu\n",
      "Epoch: 100, Loss:[32.71868716]\n",
      "Epoch: 200, Loss:[13.96441745]\n",
      "Epoch: 300, Loss:[6.53041551]\n",
      "Epoch: 400, Loss:[3.42276284]\n",
      "Epoch: 500, Loss:[2.0861998]\n",
      "Epoch: 600, Loss:[1.49616815]\n",
      "Epoch: 700, Loss:[1.22556223]\n",
      "Epoch: 800, Loss:[1.09290044]\n",
      "Epoch: 900, Loss:[1.02056536]\n",
      "Epoch: 1000, Loss:[0.97522153]\n"
     ]
    },
    {
     "data": {
      "image/png": "[encoded data removed]",
      "text/plain": [
       "<Figure size 432x288 with 1 Axes>"
      ]
     },
     "metadata": {
      "needs_background": "light"
     },
     "output_type": "display_data"
    },
    {
     "name": "stdout",
     "output_type": "stream",
     "text": [
      "Hidden layer size:50, Activation Function:tanh\n",
      "Epoch: 100, Loss:[56.92346103]\n",
      "Epoch: 200, Loss:[37.08251602]\n",
      "Epoch: 300, Loss:[25.10507885]\n",
      "Epoch: 400, Loss:[17.51568907]\n",
      "Epoch: 500, Loss:[12.5301913]\n",
      "Epoch: 600, Loss:[9.16409275]\n",
      "Epoch: 700, Loss:[6.84197191]\n",
      "Epoch: 800, Loss:[5.21183836]\n",
      "Epoch: 900, Loss:[4.0504978]\n",
      "Epoch: 1000, Loss:[3.21234567]\n"
     ]
    },
    {
     "data": {
      "image/png": "[encoded data removed]",
      "text/plain": [
       "<Figure size 432x288 with 1 Axes>"
      ]
     },
     "metadata": {
      "needs_background": "light"
     },
     "output_type": "display_data"
    },
    {
     "name": "stdout",
     "output_type": "stream",
     "text": [
      "Hidden layer size:50, Activation Function:relu\n",
      "Epoch: 100, Loss:[95.57989827]\n",
      "Epoch: 200, Loss:[22.79942042]\n",
      "Epoch: 300, Loss:[6.95958891]\n",
      "Epoch: 400, Loss:[3.11984768]\n",
      "Epoch: 500, Loss:[2.07123831]\n",
      "Epoch: 600, Loss:[1.70807321]\n",
      "Epoch: 700, Loss:[1.53036919]\n",
      "Epoch: 800, Loss:[1.41454864]\n",
      "Epoch: 900, Loss:[1.32683829]\n",
      "Epoch: 1000, Loss:[1.2560856]\n"
     ]
    },
    {
     "data": {
      "image/png": "[encoded data removed]",
      "text/plain": [
       "<Figure size 432x288 with 1 Axes>"
      ]
     },
     "metadata": {
      "needs_background": "light"
     },
     "output_type": "display_data"
    },
    {
     "name": "stdout",
     "output_type": "stream",
     "text": [
      "Hidden layer size:75, Activation Function:tanh\n",
      "Epoch: 100, Loss:[143.53152403]\n",
      "Epoch: 200, Loss:[70.23097613]\n",
      "Epoch: 300, Loss:[38.05714872]\n",
      "Epoch: 400, Loss:[22.36267683]\n",
      "Epoch: 500, Loss:[14.12622859]\n",
      "Epoch: 600, Loss:[9.54253129]\n",
      "Epoch: 700, Loss:[6.85256772]\n",
      "Epoch: 800, Loss:[5.1910275]\n",
      "Epoch: 900, Loss:[4.11220343]\n",
      "Epoch: 1000, Loss:[3.37766194]\n"
     ]
    },
    {
     "data": {
      "image/png": "[encoded data removed]",
      "text/plain": [
       "<Figure size 432x288 with 1 Axes>"
      ]
     },
     "metadata": {
      "needs_background": "light"
     },
     "output_type": "display_data"
    },
    {
     "name": "stdout",
     "output_type": "stream",
     "text": [
      "Hidden layer size:75, Activation Function:relu\n",
      "Epoch: 100, Loss:[105.50948091]\n",
      "Epoch: 200, Loss:[16.45788392]\n",
      "Epoch: 300, Loss:[5.35707742]\n",
      "Epoch: 400, Loss:[3.46127445]\n",
      "Epoch: 500, Loss:[2.85560135]\n",
      "Epoch: 600, Loss:[2.51590868]\n",
      "Epoch: 700, Loss:[2.27613048]\n",
      "Epoch: 800, Loss:[2.09253394]\n",
      "Epoch: 900, Loss:[1.94696722]\n",
      "Epoch: 1000, Loss:[1.82869214]\n"
     ]
    },
    {
     "data": {
      "image/png": "[encoded data removed]",
      "text/plain": [
       "<Figure size 432x288 with 1 Axes>"
      ]
     },
     "metadata": {
      "needs_background": "light"
     },
     "output_type": "display_data"
    }
   ],
   "source": [
    "SGD_weights = []\n",
    "for hidden_dim in [25, 50, 75]:\n",
    "    for activation, activation_grad in [(tanh, tanh_grad), (relu, relu_grad)]:\n",
    "        print(\"Hidden layer size:{}, Activation Function:{}\".format(hidden_dim, activation.__name__))\n",
    "        w_ho, w_ih, losses = SGD(X_train, y_train, hidden_dim, activation, activation_grad, epochs=1000, lr=1e-4)\n",
    "        SGD_weights.append((w_ho, w_ih))\n",
    "        plt.plot(losses, label=\"Loss vs Epoch\")\n",
    "        plt.xlabel(\"Epoch\")\n",
    "        plt.ylabel(\"Loss\")\n",
    "        plt.show()"
   ]
  },
  {
   "cell_type": "markdown",
   "metadata": {},
   "source": [
    "### RProp Optimization"
   ]
  },
  {
   "cell_type": "code",
   "execution_count": 117,
   "metadata": {},
   "outputs": [],
   "source": [
    "def RProp(X, y, hidden_dim, activation, activation_grad, epochs=1000, lr=0.01):\n",
    "    input_dim = X.shape[1]\n",
    "    output_dim = 1\n",
    "    X = np.concatenate([X, np.ones((X.shape[0], 1))], axis=1)\n",
    "    \n",
    "    losses = []\n",
    "\n",
    "    w_ih, w_ho = create_MLP_params(input_dim, hidden_dim, output_dim)\n",
    "\n",
    "    lr_min = -np.inf\n",
    "    lr_max = np.inf\n",
    "    alpha = 1.2\n",
    "    beta = 0.5\n",
    "    lr_w_ih = np.ones(w_ih.shape)*0.01\n",
    "    lr_w_ho = np.ones(w_ho.shape)*0.01\n",
    "\n",
    "    counter = 0\n",
    "    for i in range(epochs):\n",
    "        z_0, y_0, y_pred = forward_pass(X, w_ih, w_ho, activation)\n",
    "        w_ho_grad, w_ih_grad, loss_ = backward_pass(X, y_pred, y, z_0, y_0, w_ih, w_ho, activation_grad)\n",
    "        w_ho -= lr_w_ho*np.sign(w_ho_grad)\n",
    "        w_ih -= lr_w_ih*np.sign(w_ih_grad)\n",
    "\n",
    "        if counter >= 1:\n",
    "            t = np.sign(prev_w_ho_grad)*np.sign(w_ho_grad)\n",
    "            same_sign_pos = np.where(t > 0)\n",
    "            opp_sign_pos = np.where(t <= 0)\n",
    "            lr_w_ho[same_sign_pos] = np.minimum(lr_w_ho[same_sign_pos]*alpha, lr_max)\n",
    "            lr_w_ho[opp_sign_pos] = np.maximum(lr_w_ho[opp_sign_pos]*beta, lr_min)\n",
    "\n",
    "            t = np.sign(prev_w_ih_grad)*np.sign(w_ih_grad)\n",
    "            same_sign_pos = np.where(t > 0)\n",
    "            opp_sign_pos = np.where(t <= 0)\n",
    "            lr_w_ih[same_sign_pos] = np.minimum(lr_w_ih[same_sign_pos]*alpha, lr_max)\n",
    "            lr_w_ih[opp_sign_pos] = np.maximum(lr_w_ih[opp_sign_pos]*beta, lr_min)\n",
    "\n",
    "        prev_w_ho_grad = w_ho_grad\n",
    "        prev_w_ih_grad = w_ih_grad\n",
    "\n",
    "        counter += 1\n",
    "        losses.append(loss_)\n",
    "        if counter % 100 == 0:\n",
    "            print(\"Epoch: {}, Loss:{}\".format(counter, loss_))\n",
    "\n",
    "    return w_ho, w_ih, losses\n"
   ]
  },
  {
   "cell_type": "code",
   "execution_count": 118,
   "metadata": {
    "scrolled": true
   },
   "outputs": [
    {
     "name": "stdout",
     "output_type": "stream",
     "text": [
      "Hidden layer size:25, Activation Function:tanh\n",
      "Epoch: 100, Loss:[0.11043852]\n",
      "Epoch: 200, Loss:[0.08277547]\n",
      "Epoch: 300, Loss:[0.07169967]\n",
      "Epoch: 400, Loss:[0.06627775]\n",
      "Epoch: 500, Loss:[0.06210427]\n",
      "Epoch: 600, Loss:[0.05895405]\n",
      "Epoch: 700, Loss:[0.05676662]\n",
      "Epoch: 800, Loss:[0.05467747]\n",
      "Epoch: 900, Loss:[0.05223822]\n",
      "Epoch: 1000, Loss:[0.04941748]\n"
     ]
    },
    {
     "data": {
      "image/png": "[encoded data removed]",
      "text/plain": [
       "<Figure size 432x288 with 1 Axes>"
      ]
     },
     "metadata": {
      "needs_background": "light"
     },
     "output_type": "display_data"
    },
    {
     "name": "stdout",
     "output_type": "stream",
     "text": [
      "Hidden layer size:25, Activation Function:relu\n",
      "Epoch: 100, Loss:[0.12231814]\n",
      "Epoch: 200, Loss:[0.10469696]\n",
      "Epoch: 300, Loss:[0.09488302]\n",
      "Epoch: 400, Loss:[0.08904004]\n",
      "Epoch: 500, Loss:[0.08460077]\n",
      "Epoch: 600, Loss:[0.08146374]\n",
      "Epoch: 700, Loss:[0.07821582]\n",
      "Epoch: 800, Loss:[0.07485685]\n",
      "Epoch: 900, Loss:[0.07250716]\n",
      "Epoch: 1000, Loss:[0.0711548]\n"
     ]
    },
    {
     "data": {
      "image/png": "[encoded data removed]",
      "text/plain": [
       "<Figure size 432x288 with 1 Axes>"
      ]
     },
     "metadata": {
      "needs_background": "light"
     },
     "output_type": "display_data"
    },
    {
     "name": "stdout",
     "output_type": "stream",
     "text": [
      "Hidden layer size:50, Activation Function:tanh\n",
      "Epoch: 100, Loss:[0.10921514]\n",
      "Epoch: 200, Loss:[0.07624453]\n",
      "Epoch: 300, Loss:[0.06145436]\n",
      "Epoch: 400, Loss:[0.05328121]\n",
      "Epoch: 500, Loss:[0.0467249]\n",
      "Epoch: 600, Loss:[0.04273329]\n",
      "Epoch: 700, Loss:[0.03956747]\n",
      "Epoch: 800, Loss:[0.03720001]\n",
      "Epoch: 900, Loss:[0.03516695]\n",
      "Epoch: 1000, Loss:[0.03360672]\n"
     ]
    },
    {
     "data": {
      "image/png": "[encoded data removed]",
      "text/plain": [
       "<Figure size 432x288 with 1 Axes>"
      ]
     },
     "metadata": {
      "needs_background": "light"
     },
     "output_type": "display_data"
    },
    {
     "name": "stdout",
     "output_type": "stream",
     "text": [
      "Hidden layer size:50, Activation Function:relu\n",
      "Epoch: 100, Loss:[0.12122927]\n",
      "Epoch: 200, Loss:[0.08966398]\n",
      "Epoch: 300, Loss:[0.07611994]\n",
      "Epoch: 400, Loss:[0.0674541]\n",
      "Epoch: 500, Loss:[0.06266999]\n",
      "Epoch: 600, Loss:[0.05866198]\n",
      "Epoch: 700, Loss:[0.0553452]\n",
      "Epoch: 800, Loss:[0.05324508]\n",
      "Epoch: 900, Loss:[0.05155263]\n",
      "Epoch: 1000, Loss:[0.05011693]\n"
     ]
    },
    {
     "data": {
      "image/png": "[encoded data removed]",
      "text/plain": [
       "<Figure size 432x288 with 1 Axes>"
      ]
     },
     "metadata": {
      "needs_background": "light"
     },
     "output_type": "display_data"
    },
    {
     "name": "stdout",
     "output_type": "stream",
     "text": [
      "Hidden layer size:75, Activation Function:tanh\n",
      "Epoch: 100, Loss:[0.08967959]\n",
      "Epoch: 200, Loss:[0.06016739]\n",
      "Epoch: 300, Loss:[0.04850683]\n",
      "Epoch: 400, Loss:[0.04201715]\n",
      "Epoch: 500, Loss:[0.03705651]\n",
      "Epoch: 600, Loss:[0.03373535]\n",
      "Epoch: 700, Loss:[0.03076168]\n",
      "Epoch: 800, Loss:[0.02881828]\n",
      "Epoch: 900, Loss:[0.02742941]\n",
      "Epoch: 1000, Loss:[0.02630356]\n"
     ]
    },
    {
     "data": {
      "image/png": "[encoded data removed]",
      "text/plain": [
       "<Figure size 432x288 with 1 Axes>"
      ]
     },
     "metadata": {
      "needs_background": "light"
     },
     "output_type": "display_data"
    },
    {
     "name": "stdout",
     "output_type": "stream",
     "text": [
      "Hidden layer size:75, Activation Function:relu\n",
      "Epoch: 100, Loss:[0.1022025]\n",
      "Epoch: 200, Loss:[0.0783746]\n",
      "Epoch: 300, Loss:[0.06431504]\n",
      "Epoch: 400, Loss:[0.05626243]\n",
      "Epoch: 500, Loss:[0.05145388]\n",
      "Epoch: 600, Loss:[0.04863226]\n",
      "Epoch: 700, Loss:[0.0460421]\n",
      "Epoch: 800, Loss:[0.04392517]\n",
      "Epoch: 900, Loss:[0.04215403]\n",
      "Epoch: 1000, Loss:[0.04064898]\n"
     ]
    },
    {
     "data": {
      "image/png": "[encoded data removed]",
      "text/plain": [
       "<Figure size 432x288 with 1 Axes>"
      ]
     },
     "metadata": {
      "needs_background": "light"
     },
     "output_type": "display_data"
    }
   ],
   "source": [
    "RProp_weights = []\n",
    "for hidden_dim in [25, 50, 75]:\n",
    "    for activation, activation_grad in [(tanh, tanh_grad), (relu, relu_grad)]:\n",
    "        print(\"Hidden layer size:{}, Activation Function:{}\".format(hidden_dim, activation.__name__))\n",
    "        w_ho, w_ih, losses = RProp(X_train, y_train, hidden_dim, activation, activation_grad, epochs=1000, lr=1e-4)\n",
    "        RProp_weights.append((w_ho, w_ih))\n",
    "        plt.plot(losses, label=\"Loss vs Epoch\")\n",
    "        plt.xlabel(\"Epoch\")\n",
    "        plt.ylabel(\"Loss\")\n",
    "        plt.show()"
   ]
  },
  {
   "cell_type": "markdown",
   "metadata": {},
   "source": [
    "### QuickProp optimization"
   ]
  },
  {
   "cell_type": "code",
   "execution_count": 114,
   "metadata": {},
   "outputs": [],
   "source": [
    "def QProp(X, y, hidden_dim, activation, activation_grad, epochs=1000, lr=0.01):\n",
    "    input_dim = X.shape[1]\n",
    "    output_dim = 1\n",
    "    X = np.concatenate([X, np.ones((X.shape[0], 1))], axis=1)\n",
    "    \n",
    "    losses = []\n",
    "\n",
    "    w_ih, w_ho = create_MLP_params(input_dim, hidden_dim, output_dim)\n",
    "\n",
    "    delta_w_ih = np.ones(w_ih.shape)*0.01\n",
    "    delta_w_ho = np.ones(w_ho.shape)*0.01\n",
    "\n",
    "    counter = 0\n",
    "    for i in range(epochs):\n",
    "        z_0, y_0, y_pred = forward_pass(X, w_ih, w_ho, activation)\n",
    "        w_ho_grad, w_ih_grad, loss_ = backward_pass(X, y_pred, y, z_0, y_0, w_ih, w_ho, activation_grad)\n",
    "        \n",
    "        if counter >= 1:\n",
    "#             assert ((prev_w_ho_grad-w_ho_grad)!=0).all()\n",
    "#             assert ((prev_w_ih_grad-w_ih_grad)!=0).all()\n",
    "            delta_w_ho = delta_w_ho*(w_ho_grad/(prev_w_ho_grad - w_ho_grad + 1e-10))\n",
    "            delta_w_ih = delta_w_ih*(w_ih_grad/(prev_w_ih_grad- w_ih_grad + 1e-10))\n",
    "\n",
    "        w_ho -= delta_w_ho\n",
    "        w_ih -= delta_w_ih\n",
    "        prev_w_ho_grad = w_ho_grad.copy()\n",
    "        prev_w_ih_grad = w_ih_grad.copy()\n",
    "\n",
    "        counter += 1\n",
    "        losses.append(loss_)\n",
    "        if counter % 100 == 0:\n",
    "            print(\"Epoch: {}, Loss:{}\".format(counter, loss_))\n",
    "\n",
    "    return w_ho, w_ih, losses\n"
   ]
  },
  {
   "cell_type": "code",
   "execution_count": 115,
   "metadata": {
    "scrolled": true
   },
   "outputs": [
    {
     "name": "stdout",
     "output_type": "stream",
     "text": [
      "Hidden layer size:25, Activation Function:tanh\n",
      "Epoch: 100, Loss:[3.16212193]\n",
      "Epoch: 200, Loss:[0.73913967]\n",
      "Epoch: 300, Loss:[0.56912694]\n",
      "Epoch: 400, Loss:[0.53011763]\n",
      "Epoch: 500, Loss:[0.44182928]\n",
      "Epoch: 600, Loss:[0.45240768]\n",
      "Epoch: 700, Loss:[0.45430372]\n",
      "Epoch: 800, Loss:[0.4500693]\n",
      "Epoch: 900, Loss:[0.45147495]\n",
      "Epoch: 1000, Loss:[0.44835854]\n"
     ]
    },
    {
     "data": {
      "image/png": "[encoded data removed]",
      "text/plain": [
       "<Figure size 432x288 with 1 Axes>"
      ]
     },
     "metadata": {
      "needs_background": "light"
     },
     "output_type": "display_data"
    },
    {
     "name": "stdout",
     "output_type": "stream",
     "text": [
      "Hidden layer size:25, Activation Function:relu\n",
      "Epoch: 100, Loss:[1.87180488]\n",
      "Epoch: 200, Loss:[19.85227851]\n",
      "Epoch: 300, Loss:[23.04764964]\n",
      "Epoch: 400, Loss:[0.67656212]\n",
      "Epoch: 500, Loss:[0.652615]\n",
      "Epoch: 600, Loss:[0.64454548]\n",
      "Epoch: 700, Loss:[0.43824321]\n",
      "Epoch: 800, Loss:[0.35238869]\n",
      "Epoch: 900, Loss:[0.31365688]\n",
      "Epoch: 1000, Loss:[0.40457526]\n"
     ]
    },
    {
     "data": {
      "image/png": "[encoded data removed]",
      "text/plain": [
       "<Figure size 432x288 with 1 Axes>"
      ]
     },
     "metadata": {
      "needs_background": "light"
     },
     "output_type": "display_data"
    },
    {
     "name": "stdout",
     "output_type": "stream",
     "text": [
      "Hidden layer size:50, Activation Function:tanh\n",
      "Epoch: 100, Loss:[3.09628915]\n",
      "Epoch: 200, Loss:[4.22164481]\n",
      "Epoch: 300, Loss:[0.68387486]\n",
      "Epoch: 400, Loss:[0.45258946]\n",
      "Epoch: 500, Loss:[0.39674926]\n",
      "Epoch: 600, Loss:[0.35065289]\n",
      "Epoch: 700, Loss:[0.36327238]\n",
      "Epoch: 800, Loss:[0.53775465]\n",
      "Epoch: 900, Loss:[0.41550473]\n",
      "Epoch: 1000, Loss:[0.38198376]\n"
     ]
    },
    {
     "data": {
      "image/png": "[encoded data removed]",
      "text/plain": [
       "<Figure size 432x288 with 1 Axes>"
      ]
     },
     "metadata": {
      "needs_background": "light"
     },
     "output_type": "display_data"
    },
    {
     "name": "stdout",
     "output_type": "stream",
     "text": [
      "Hidden layer size:50, Activation Function:relu\n",
      "Epoch: 100, Loss:[125701.02115237]\n",
      "Epoch: 200, Loss:[37810.41541957]\n",
      "Epoch: 300, Loss:[19272.43760915]\n",
      "Epoch: 400, Loss:[11919.10197811]\n",
      "Epoch: 500, Loss:[7846.40580299]\n",
      "Epoch: 600, Loss:[5814.87535084]\n",
      "Epoch: 700, Loss:[5179.09606118]\n",
      "Epoch: 800, Loss:[9804.68024505]\n",
      "Epoch: 900, Loss:[4165.95645841]\n",
      "Epoch: 1000, Loss:[3312.96548348]\n"
     ]
    },
    {
     "data": {
      "image/png": "[encoded data removed]",
      "text/plain": [
       "<Figure size 432x288 with 1 Axes>"
      ]
     },
     "metadata": {
      "needs_background": "light"
     },
     "output_type": "display_data"
    },
    {
     "name": "stdout",
     "output_type": "stream",
     "text": [
      "Hidden layer size:75, Activation Function:tanh\n",
      "Epoch: 100, Loss:[3.19238218]\n",
      "Epoch: 200, Loss:[63.70006664]\n",
      "Epoch: 300, Loss:[1170.72545353]\n",
      "Epoch: 400, Loss:[3.73404465]\n",
      "Epoch: 500, Loss:[1.59050348]\n",
      "Epoch: 600, Loss:[139.15435224]\n",
      "Epoch: 700, Loss:[0.93208633]\n",
      "Epoch: 800, Loss:[0.82583412]\n",
      "Epoch: 900, Loss:[9.99031999]\n",
      "Epoch: 1000, Loss:[0.61054588]\n"
     ]
    },
    {
     "data": {
      "image/png": "[encoded data removed]",
      "text/plain": [
       "<Figure size 432x288 with 1 Axes>"
      ]
     },
     "metadata": {
      "needs_background": "light"
     },
     "output_type": "display_data"
    },
    {
     "name": "stdout",
     "output_type": "stream",
     "text": [
      "Hidden layer size:75, Activation Function:relu\n",
      "Epoch: 100, Loss:[60634776.57483787]\n",
      "Epoch: 200, Loss:[20479435.20406338]\n",
      "Epoch: 300, Loss:[3031070.40915675]\n",
      "Epoch: 400, Loss:[3865866.26903254]\n",
      "Epoch: 500, Loss:[1564036.11318693]\n",
      "Epoch: 600, Loss:[3593737.63552211]\n",
      "Epoch: 700, Loss:[1335752.16529236]\n",
      "Epoch: 800, Loss:[1082227.0383361]\n",
      "Epoch: 900, Loss:[917789.10501953]\n",
      "Epoch: 1000, Loss:[748122.34876224]\n"
     ]
    },
    {
     "data": {
      "image/png": "[encoded data removed]",
      "text/plain": [
       "<Figure size 432x288 with 1 Axes>"
      ]
     },
     "metadata": {
      "needs_background": "light"
     },
     "output_type": "display_data"
    }
   ],
   "source": [
    "QProp_weights = []\n",
    "for hidden_dim in [25, 50, 75]:\n",
    "    for activation, activation_grad in [(tanh, tanh_grad), (relu, relu_grad)]:\n",
    "        print(\"Hidden layer size:{}, Activation Function:{}\".format(hidden_dim, activation.__name__))\n",
    "        w_ho, w_ih, losses = QProp(X_train, y_train, hidden_dim, activation, activation_grad, epochs=1000, lr=1e-4)\n",
    "        QProp_weights.append((w_ho, w_ih))\n",
    "        plt.plot(losses, label=\"Loss vs Epoch\")\n",
    "        plt.xlabel(\"Epoch\")\n",
    "        plt.ylabel(\"Loss\")\n",
    "        plt.show()"
   ]
  },
  {
   "cell_type": "markdown",
   "metadata": {},
   "source": [
    "### Observations\n",
    "\n",
    "- RProp performs better than SGD for the same activation functions and hidden dimensions\n",
    "- Number of hidden nodes have an arbitrary relation with MSE.\n",
    "- QuickProp optimisation is unstable, with arbitrary jumps in between.\n",
    "- ReLU performs better than Tanh when all other settings remain the same."
   ]
  },
  {
   "cell_type": "code",
   "execution_count": 131,
   "metadata": {},
   "outputs": [
    {
     "name": "stdout",
     "output_type": "stream",
     "text": [
      "SGD: Hidden layer size:25, Activation Function:tanh, Loss:[2.74926059]\n",
      "SGD: Hidden layer size:25, Activation Function:relu, Loss:[1.07896452]\n",
      "SGD: Hidden layer size:50, Activation Function:tanh, Loss:[0.64867882]\n",
      "SGD: Hidden layer size:50, Activation Function:relu, Loss:[29.06185448]\n",
      "SGD: Hidden layer size:75, Activation Function:tanh, Loss:[3.05167959]\n",
      "SGD: Hidden layer size:75, Activation Function:relu, Loss:[1.34543827]\n"
     ]
    }
   ],
   "source": [
    "X = np.concatenate([X_test, np.ones((X_test.shape[0], 1))], axis=1)\n",
    "for i, hidden_dim in enumerate([25, 50, 75]):\n",
    "    for j, (activation, activation_grad) in enumerate([(tanh, tanh_grad), (relu, relu_grad)]):\n",
    "        w_ho, w_ih = SGD_weights[i+j]\n",
    "        _, _, y_pred = forward_pass(X, w_ih, w_ho, activation)\n",
    "        loss_, _ = loss(y_pred, y_test)\n",
    "        print(\"SGD: Hidden layer size:{}, Activation Function:{}, Loss:{}\".format(hidden_dim, activation.__name__, loss_))\n",
    "        "
   ]
  },
  {
   "cell_type": "code",
   "execution_count": 132,
   "metadata": {},
   "outputs": [
    {
     "name": "stdout",
     "output_type": "stream",
     "text": [
      "RProp: Hidden layer size:25, Activation Function:tanh, Loss:[0.09961039]\n",
      "RProp: Hidden layer size:25, Activation Function:relu, Loss:[0.09450551]\n",
      "RProp: Hidden layer size:50, Activation Function:tanh, Loss:[1.18165753]\n",
      "RProp: Hidden layer size:50, Activation Function:relu, Loss:[66.62661749]\n",
      "RProp: Hidden layer size:75, Activation Function:tanh, Loss:[0.1141462]\n",
      "RProp: Hidden layer size:75, Activation Function:relu, Loss:[0.0807709]\n"
     ]
    }
   ],
   "source": [
    "X = np.concatenate([X_test, np.ones((X_test.shape[0], 1))], axis=1)\n",
    "for i, hidden_dim in enumerate([25, 50, 75]):\n",
    "    for j, (activation, activation_grad) in enumerate([(tanh, tanh_grad), (relu, relu_grad)]):\n",
    "        w_ho, w_ih = RProp_weights[i+j]\n",
    "        _, _, y_pred = forward_pass(X, w_ih, w_ho, activation)\n",
    "        loss_, _ = loss(y_pred, y_test)\n",
    "        print(\"RProp: Hidden layer size:{}, Activation Function:{}, Loss:{}\".format(hidden_dim, activation.__name__, loss_))\n",
    "        "
   ]
  },
  {
   "cell_type": "code",
   "execution_count": 133,
   "metadata": {},
   "outputs": [
    {
     "name": "stdout",
     "output_type": "stream",
     "text": [
      "QuickProp: Hidden layer size:25, Activation Function:tanh, Loss:[0.4510277]\n",
      "QuickProp: Hidden layer size:25, Activation Function:relu, Loss:[0.33006749]\n",
      "QuickProp: Hidden layer size:50, Activation Function:tanh, Loss:[80.50274552]\n",
      "QuickProp: Hidden layer size:50, Activation Function:relu, Loss:[45182369.32056198]\n",
      "QuickProp: Hidden layer size:75, Activation Function:tanh, Loss:[0.4178972]\n",
      "QuickProp: Hidden layer size:75, Activation Function:relu, Loss:[6325.70414648]\n"
     ]
    }
   ],
   "source": [
    "X = np.concatenate([X_test, np.ones((X_test.shape[0], 1))], axis=1)\n",
    "for i, hidden_dim in enumerate([25, 50, 75]):\n",
    "    for j, (activation, activation_grad) in enumerate([(tanh, tanh_grad), (relu, relu_grad)]):\n",
    "        w_ho, w_ih = QProp_weights[i+j]\n",
    "        _, _, y_pred = forward_pass(X, w_ih, w_ho, activation)\n",
    "        loss_, _ = loss(y_pred, y_test)\n",
    "        print(\"QuickProp: Hidden layer size:{}, Activation Function:{}, Loss:{}\".format(hidden_dim, activation.__name__, loss_))\n",
    "        "
   ]
  },
  {
   "cell_type": "markdown",
   "metadata": {},
   "source": []
  }
 ],
 "metadata": {
  "kernelspec": {
   "display_name": "Python 3",
   "language": "python",
   "name": "python3"
  },
  "language_info": {
   "codemirror_mode": {
    "name": "ipython",
    "version": 3
   },
   "file_extension": ".py",
   "mimetype": "text/x-python",
   "name": "python",
   "nbconvert_exporter": "python",
   "pygments_lexer": "ipython3",
   "version": "3.6.9"
  }
 },
 "nbformat": 4,
 "nbformat_minor": 2
}
